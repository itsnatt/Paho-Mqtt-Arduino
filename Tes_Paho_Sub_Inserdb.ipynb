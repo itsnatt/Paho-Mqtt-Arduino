{
 "cells": [
  {
   "cell_type": "code",
   "execution_count": 24,
   "id": "71de386e-8891-46cd-84ab-37991b8dbb7a",
   "metadata": {},
   "outputs": [],
   "source": [
    "import sqlite3\n",
    "conn = sqlite3.connect('data.db')  \n",
    "cursor = conn.cursor()\n"
   ]
  },
  {
   "cell_type": "code",
   "execution_count": 25,
   "id": "cccd1f41-ca32-4f1f-a20c-1f6ca24552c9",
   "metadata": {},
   "outputs": [],
   "source": [
    "cursor.execute('''\n",
    " \n",
    "CREATE TABLE NodeSensor (\n",
    "  id INTEGER PRIMARY KEY,\n",
    "  id_node INTEGER,\n",
    "  status_sensor BOOLEAN,\n",
    "  kondisi_battery BOOLEAN,\n",
    "  data_lokasi POINT,\n",
    "  data_kelembapan_tanah_1 INT,\n",
    "  data_kelembapan_tanah_2 INT,\n",
    "  data_kemiringan_x INT,\n",
    "  data_kemiringan_y INT,\n",
    "  data_kemiringan_z INT,\n",
    "  status_hujan BOOLEAN\n",
    ");\n",
    "\n",
    "''')\n",
    "conn.commit()\n"
   ]
  },
  {
   "cell_type": "code",
   "execution_count": 26,
   "id": "f6f5da6e-c7a4-4be4-94a3-b099ab25c4d6",
   "metadata": {},
   "outputs": [],
   "source": [
    "cursor.execute('''\n",
    " \n",
    "CREATE TABLE PreprocessingLog (\n",
    "  id_preprocessing INTEGER PRIMARY KEY,\n",
    "  id_node INT,\n",
    "  timestamp TIMESTAMP,\n",
    "  perubahan_kemiringan INT,\n",
    "  perubahan_lokasi INT,\n",
    "  status_waspada BOOLEAN,\n",
    "  NodeSensor_id_node INTEGER,\n",
    "  FOREIGN KEY (NodeSensor_id_node) REFERENCES NodeSensor(id)\n",
    ");\n",
    "''')\n",
    "conn.commit()\n"
   ]
  },
  {
   "cell_type": "code",
   "execution_count": null,
   "id": "52ec4c99-f245-4f6f-b73b-34c95f6bb369",
   "metadata": {},
   "outputs": [],
   "source": [
    "import paho.mqtt.client as mqtt\n",
    "\n",
    "def on_message(client, userdata, message):\n",
    "    try:\n",
    "        conn = sqlite3.connect('pira.db')\n",
    "        cursor = conn.cursor()\n",
    "\n",
    "        payload = message.payload.decode()\n",
    "        topic = message.topic\n",
    "\n",
    "        cursor.execute(\"INSERT INTO messages (topic, payload) VALUES (?, ?)\", (topic, payload))\n",
    "        conn.commit()\n",
    "        conn.close()\n",
    "\n",
    "        print(f\"Pesan baru dari topik {topic}: {payload}\")\n",
    "\n",
    "    except Exception as e:\n",
    "        print(f\"Error: {e}\")\n",
    "\n",
    "\n",
    "client = mqtt.Client()\n",
    "client.on_message = on_message\n",
    "\n",
    "#18769 16378\n",
    "client.connect(\"0.tcp.ap.ngrok.io\", 18769, 60)\n",
    "client.subscribe(\"test\")\n",
    "\n",
    "client.loop_forever()"
   ]
  },
  {
   "cell_type": "code",
   "execution_count": 51,
   "id": "793e21ba-51ef-4044-bc4c-99f912ec06bd",
   "metadata": {},
   "outputs": [],
   "source": [
    "conn = sqlite3.connect('sensors.db')  \n",
    "cursor.execute(\"SELECT *  FROM NodeSensor\")\n",
    "data_messages = cursor.fetchall()\n",
    "for row in data_messages:\n",
    "    print(row)"
   ]
  },
  {
   "cell_type": "code",
   "execution_count": null,
   "id": "07f1e314-99e2-45cd-b317-f9bf9ec19d7f",
   "metadata": {},
   "outputs": [],
   "source": []
  }
 ],
 "metadata": {
  "kernelspec": {
   "display_name": "Python 3 (ipykernel)",
   "language": "python",
   "name": "python3"
  },
  "language_info": {
   "codemirror_mode": {
    "name": "ipython",
    "version": 3
   },
   "file_extension": ".py",
   "mimetype": "text/x-python",
   "name": "python",
   "nbconvert_exporter": "python",
   "pygments_lexer": "ipython3",
   "version": "3.11.6"
  }
 },
 "nbformat": 4,
 "nbformat_minor": 5
}
