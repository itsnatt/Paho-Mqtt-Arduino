{
 "cells": [
  {
   "cell_type": "code",
   "execution_count": 14,
   "id": "043fe1d8-1381-4acb-ae57-9b3d486603ad",
   "metadata": {},
   "outputs": [
    {
     "data": {
      "text/plain": [
       "0"
      ]
     },
     "execution_count": 14,
     "metadata": {},
     "output_type": "execute_result"
    }
   ],
   "source": [
    "import paho.mqtt.client as mqtt\n",
    "import random\n",
    "\n",
    "client = mqtt.Client()\n",
    "\n",
    "broker_address = \"0.tcp.ap.ngrok.io\"\n",
    "port = 16753\n",
    "client.connect(broker_address, port)\n",
    "\n",
    "\n",
    "topic = \"test\"\n",
    "\n",
    "message =  \"woi puki\"\n",
    "#random.randint(1, 100)\n",
    "\n",
    "client.publish(topic, message)\n",
    "\n",
    "client.disconnect()\n"
   ]
  },
  {
   "cell_type": "code",
   "execution_count": null,
   "id": "77808531-c8c7-4825-80aa-719c7a43f65b",
   "metadata": {},
   "outputs": [],
   "source": []
  },
  {
   "cell_type": "code",
   "execution_count": null,
   "id": "adcb5bca-aaac-4d2c-a055-4516215ee33c",
   "metadata": {},
   "outputs": [],
   "source": []
  },
  {
   "cell_type": "code",
   "execution_count": null,
   "id": "7008dd58-31ae-4bd9-b137-7d9cfcfe2daf",
   "metadata": {},
   "outputs": [],
   "source": []
  },
  {
   "cell_type": "code",
   "execution_count": null,
   "id": "0cbb4854-95a4-4359-a516-154ad128cacd",
   "metadata": {},
   "outputs": [],
   "source": []
  }
 ],
 "metadata": {
  "kernelspec": {
   "display_name": "Python 3 (ipykernel)",
   "language": "python",
   "name": "python3"
  },
  "language_info": {
   "codemirror_mode": {
    "name": "ipython",
    "version": 3
   },
   "file_extension": ".py",
   "mimetype": "text/x-python",
   "name": "python",
   "nbconvert_exporter": "python",
   "pygments_lexer": "ipython3",
   "version": "3.11.5"
  }
 },
 "nbformat": 4,
 "nbformat_minor": 5
}
